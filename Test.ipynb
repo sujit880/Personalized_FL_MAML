{
 "cells": [
  {
   "cell_type": "markdown",
   "metadata": {},
   "source": [
    "Library"
   ]
  },
  {
   "cell_type": "code",
   "execution_count": 12,
   "metadata": {},
   "outputs": [],
   "source": [
    "import torch\n",
    "import sys\n",
    "sys.path.append(\"./\")\n",
    "from data.data_utils import get_dataloader"
   ]
  },
  {
   "cell_type": "code",
   "execution_count": 13,
   "metadata": {},
   "outputs": [
    {
     "name": "stdout",
     "output_type": "stream",
     "text": [
      "True\n"
     ]
    }
   ],
   "source": [
    "print(torch.cuda.is_available())"
   ]
  },
  {
   "cell_type": "code",
   "execution_count": 14,
   "metadata": {},
   "outputs": [
    {
     "name": "stdout",
     "output_type": "stream",
     "text": [
      "True\n"
     ]
    }
   ],
   "source": [
    "a = 0\n",
    "print(a!=1)"
   ]
  },
  {
   "cell_type": "code",
   "execution_count": 15,
   "metadata": {},
   "outputs": [
    {
     "name": "stdout",
     "output_type": "stream",
     "text": [
      "True\n"
     ]
    }
   ],
   "source": [
    "gpu_card = input(\"Enter the gpu card number you want to use (Enter x if wanna default):\")\n",
    "print(gpu_card !='x')"
   ]
  },
  {
   "cell_type": "code",
   "execution_count": 16,
   "metadata": {},
   "outputs": [
    {
     "name": "stdout",
     "output_type": "stream",
     "text": [
      "<dataset.CIFARDataset object at 0x7ff0e6402f10>\n"
     ]
    }
   ],
   "source": [
    "from data.dataset import MNISTDataset, CIFARDataset\n",
    "import pickle\n",
    "from path import Path\n",
    "import os\n",
    "import sys\n",
    "sys.path.append(\"data\")\n",
    "DATASET_DICT = {\n",
    "    \"mnist\": MNISTDataset,\n",
    "    \"cifar\": CIFARDataset,\n",
    "}\n",
    "dataset = \"cifar\"\n",
    "CURRENT_DIR = Path().parent.abspath()\n",
    "pickles_dir = CURRENT_DIR / \"data\" / dataset / \"pickles\"\n",
    "with open(pickles_dir / str(182) + \".pkl\", \"rb\") as f:\n",
    "    client_dataset: DATASET_DICT[dataset] = pickle.load(f)\n",
    "\n",
    "print(client_dataset)"
   ]
  },
  {
   "cell_type": "code",
   "execution_count": 17,
   "metadata": {},
   "outputs": [
    {
     "name": "stdout",
     "output_type": "stream",
     "text": [
      "Total: 500, data: client_dataset.data[0], target: 7\n"
     ]
    }
   ],
   "source": [
    "print(f\"Total: {len(client_dataset.targets)}, data: client_dataset.data[0], target: {client_dataset.targets[400]}\")"
   ]
  },
  {
   "cell_type": "code",
   "execution_count": 18,
   "metadata": {},
   "outputs": [
    {
     "data": {
      "image/png": "[encoded data removed]",
      "text/plain": [
       "<Figure size 640x480 with 1 Axes>"
      ]
     },
     "metadata": {},
     "output_type": "display_data"
    }
   ],
   "source": [
    "import matplotlib.pyplot as plt\n",
    "plt.imshow(client_dataset.data[400].permute(1,2,0))\n",
    "plt.show()"
   ]
  },
  {
   "cell_type": "code",
   "execution_count": 54,
   "metadata": {},
   "outputs": [
    {
     "data": {
      "text/html": [
       "<pre style=\"white-space:pre;overflow-x:auto;line-height:normal;font-family:Menlo,'DejaVu Sans Mono',consolas,'Courier New',monospace\"><span style=\"color: #7fbfbf; text-decoration-color: #7fbfbf\">[15:43:04] </span>User <span style=\"font-weight: bold\">[</span><span style=\"color: #008080; text-decoration-color: #008080; font-weight: bold\">199</span><span style=\"font-weight: bold\">]</span> <span style=\"color: #800000; text-decoration-color: #800000\">role: learner  </span><span style=\"color: #000080; text-decoration-color: #000080\">hessian: </span><span style=\"color: #000080; text-decoration-color: #000080; font-weight: bold\">0</span>                                                      <a href=\"file:///tmp/ipykernel_2002395/436302728.py\" target=\"_blank\"><span style=\"color: #7f7f7f; text-decoration-color: #7f7f7f\">436302728.py</span></a><span style=\"color: #7f7f7f; text-decoration-color: #7f7f7f\">:</span><a href=\"file:///tmp/ipykernel_2002395/436302728.py#6\" target=\"_blank\"><span style=\"color: #7f7f7f; text-decoration-color: #7f7f7f\">6</span></a>\n",
       "</pre>\n"
      ],
      "text/plain": [
       "\u001b[2;36m[15:43:04]\u001b[0m\u001b[2;36m \u001b[0mUser \u001b[1m[\u001b[0m\u001b[1;36m199\u001b[0m\u001b[1m]\u001b[0m \u001b[31mrole: learner  \u001b[0m\u001b[34mhessian: \u001b[0m\u001b[1;34m0\u001b[0m                                                      \u001b]8;id=879938;file:///tmp/ipykernel_2002395/436302728.py\u001b\\\u001b[2m436302728.py\u001b[0m\u001b]8;;\u001b\\\u001b[2m:\u001b[0m\u001b]8;id=799519;file:///tmp/ipykernel_2002395/436302728.py#6\u001b\\\u001b[2m6\u001b[0m\u001b]8;;\u001b\\\n"
      ]
     },
     "metadata": {},
     "output_type": "display_data"
    }
   ],
   "source": [
    "import rich\n",
    "from rich.console import Console\n",
    "from rich.progress import track\n",
    "\n",
    "logger = Console(record=0)\n",
    "logger.log(\n",
    "    \"User [{:d}] [red]role: {:s}  [blue]hessian: {:b}\".format(\n",
    "                    199,\n",
    "                    'learner', False,\n",
    "                )\n",
    "    )"
   ]
  },
  {
   "cell_type": "code",
   "execution_count": 59,
   "metadata": {},
   "outputs": [
    {
     "name": "stdout",
     "output_type": "stream",
     "text": [
      "0\n",
      "1\n",
      "2\n",
      "3\n",
      "4\n",
      "5\n",
      "6\n",
      "7\n",
      "8\n",
      "9\n"
     ]
    },
    {
     "data": {
      "text/html": [
       "<pre style=\"white-space:pre;overflow-x:auto;line-height:normal;font-family:Menlo,'DejaVu Sans Mono',consolas,'Courier New',monospace\">\n",
       "</pre>\n"
      ],
      "text/plain": [
       "\n"
      ]
     },
     "metadata": {},
     "output_type": "display_data"
    }
   ],
   "source": [
    "for i in track(\n",
    "        range(10), \"Training...\", console=logger, disable=1\n",
    "    ): \n",
    "    print(i)"
   ]
  },
  {
   "cell_type": "code",
   "execution_count": 35,
   "metadata": {},
   "outputs": [
    {
     "name": "stdout",
     "output_type": "stream",
     "text": [
      "200, [117, 165, 65, 87, 62, 26, 131, 115, 195, 97, 125, 171, 48, 149, 21, 141, 175, 193, 51, 63, 173, 42, 72, 84, 75, 32, 123, 82, 104, 130, 181, 2, 106, 83, 7, 59, 70, 15, 199, 134, 105, 137, 197, 53, 157, 43, 92, 162, 20, 114, 54, 183, 12, 85, 172, 161, 177, 101, 89, 6], 60, 140, \n",
      "[0, 1, 3, 4, 5, 8, 9, 10, 11, 13, 14, 16, 17, 18, 19, 22, 23, 24, 25, 27, 28, 29, 30, 31, 33, 34, 35, 36, 37, 38, 39, 40, 41, 44, 45, 46, 47, 49, 50, 52, 55, 56, 57, 58, 60, 61, 64, 66, 67, 68, 69, 71, 73, 74, 76, 77, 78, 79, 80, 81, 86, 88, 90, 91, 93, 94, 95, 96, 98, 99, 100, 102, 103, 107, 108, 109, 110, 111, 112, 113, 116, 118, 119, 120, 121, 122, 124, 126, 127, 128, 129, 132, 133, 135, 136, 138, 139, 140, 142, 143, 144, 145, 146, 147, 148, 150, 151, 152, 153, 154, 155, 156, 158, 159, 160, 163, 164, 166, 167, 168, 169, 170, 174, 176, 178, 179, 180, 182, 184, 185, 186, 187, 188, 189, 190, 191, 192, 194, 196, 198] \n",
      " [145, 128, 76, 121, 0, 55, 198, 9, 186, 34, 60, 69, 56, 80, 185, 142, 153, 191, 41, 136, 16, 140, 102, 180, 47, 118, 133, 189, 95, 120, 98, 36, 194, 73, 154, 169, 148, 23, 74, 96, 155, 187, 50, 112, 192, 3, 11, 10, 30, 126, 35, 179, 45, 100, 13, 68, 182, 61, 113, 31, 24, 159, 33, 14, 143, 174, 176, 132, 86, 116, 4, 94, 150, 81, 135, 1, 124, 37, 39, 147, 38, 49, 22, 99, 58, 190, 167, 78, 110, 138, 17, 93, 29, 164, 168, 170, 151, 25, 46, 28, 108, 188, 90, 88, 111, 8, 79, 122, 44, 107, 66, 129, 166, 178, 184, 52, 5, 146, 77, 196], \n",
      " 120, \n",
      " 2\n"
     ]
    }
   ],
   "source": [
    "import random\n",
    "users = [i for i in range(200)]\n",
    "selected_learners = random.sample(users, 60)\n",
    "remaining_users = [i for i in users if i not in selected_learners]\n",
    "required_workers = 2*len(selected_learners) if 2*len(selected_learners)<= len(remaining_users) else len(selected_learners)\n",
    "selected_workers = random.sample(remaining_users, required_workers)\n",
    "assigned_wroker_per_task = int(len(selected_workers)/len(selected_learners))\n",
    "print(f'{len(users)}, {selected_learners}, {len(selected_learners)}, {len(remaining_users)}, \\n{remaining_users} \\n {selected_workers}, \\n {len(selected_workers)}, \\n {assigned_wroker_per_task}')"
   ]
  },
  {
   "cell_type": "code",
   "execution_count": 36,
   "metadata": {},
   "outputs": [
    {
     "name": "stdout",
     "output_type": "stream",
     "text": [
      "{2: [[5, 4], [6, 3]]}\n"
     ]
    }
   ],
   "source": [
    "a ={}\n",
    "def add(x):\n",
    "    if x not in a:\n",
    "        a[x]=[[5,4]]\n",
    "    else: a[x].append([6,3])\n",
    "add(2)\n",
    "add(2)\n",
    "print(a)"
   ]
  },
  {
   "cell_type": "code",
   "execution_count": 39,
   "metadata": {},
   "outputs": [
    {
     "name": "stdout",
     "output_type": "stream",
     "text": [
      "5.0\n"
     ]
    }
   ],
   "source": [
    "a=[1,2,3]\n",
    "b = [4,5,6]\n",
    "a = a+b\n",
    "import numpy as np\n",
    "\n",
    "print(np.mean(b))"
   ]
  }
 ],
 "metadata": {
  "kernelspec": {
   "display_name": "test_39",
   "language": "python",
   "name": "python3"
  },
  "language_info": {
   "codemirror_mode": {
    "name": "ipython",
    "version": 3
   },
   "file_extension": ".py",
   "mimetype": "text/x-python",
   "name": "python",
   "nbconvert_exporter": "python",
   "pygments_lexer": "ipython3",
   "version": "3.9.17"
  },
  "orig_nbformat": 4
 },
 "nbformat": 4,
 "nbformat_minor": 2
}
